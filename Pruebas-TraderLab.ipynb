{
 "cells": [
  {
   "cell_type": "code",
   "execution_count": null,
   "metadata": {},
   "outputs": [],
   "source": [
    "pip install plotly"
   ]
  },
  {
   "cell_type": "code",
   "execution_count": 1,
   "metadata": {},
   "outputs": [],
   "source": [
    "import numpy as np\n",
    "import pandas as pd\n",
    "import plotly.figure_factory as ff\n",
    "import plotly.graph_objects as go\n",
    "import pylab as pl\n",
    "import json \n",
    "import os"
   ]
  },
  {
   "cell_type": "markdown",
   "metadata": {},
   "source": [
    "## Importar las bases de datos de cada trader"
   ]
  },
  {
   "cell_type": "code",
   "execution_count": 52,
   "metadata": {},
   "outputs": [],
   "source": [
    "balance = pd.read_excel('Archivos/BalanceTraders.xlsx').iloc[2:-1, :]\n",
    "balance.columns = ['Trader', 'Balance']\n",
    "\n",
    "coma = ','\n",
    "\n",
    "# Arriesgados\n",
    "YellowBrick = pd.read_csv('Archivos/YellowBrick.csv',coma).iloc[:,1:13]\n",
    "TurtleSafe = pd.read_csv('Archivos/TurtleSafe.csv',coma).iloc[:,0:13]\n",
    "SFEPriceAction = pd.read_csv('Archivos/SFEPriceAction.csv',coma).iloc[:,0:13]\n",
    "REVERSESANZON = pd.read_csv('Archivos/REVERSESANZON.csv',coma).iloc[:,0:13]\n",
    "NinjaTrainer = pd.read_csv('Archivos/NinjaTrainer.csv',coma).iloc[:,0:13]\n",
    "NightProfit = pd.read_csv('Archivos/NightProfit.csv',coma).iloc[:,0:13]\n",
    "NightOwl = pd.read_csv('Archivos/NightOwl.csv',coma).iloc[:,0:13]\n",
    "Financially = pd.read_csv('Archivos/Financially.csv',coma).iloc[:,0:13]\n",
    "Dragon = pd.read_csv('Archivos/Dragon.csv',coma).iloc[:,0:13]\n",
    "Consistency = pd.read_csv('Archivos/Consistency.csv',coma).iloc[:,0:13]\n",
    "CandelabrumQuiet = pd.read_csv('Archivos/CandelabrumQuiet.csv',coma).iloc[:,0:13]\n",
    "BreakthroughSt = pd.read_csv('Archivos/BreakthroughSt.csv',coma).iloc[:,0:13]\n",
    "ATLAS = pd.read_csv('Archivos/ATLAS.csv',coma).iloc[:,0:13]\n",
    "AlphaDayWalker = pd.read_csv('Archivos/ATLAS.csv',coma).iloc[:,0:13]\n",
    "LyraFX = pd.read_csv('Archivos/LyraFX.csv',coma).iloc[:,0:13]\n",
    "Turn_UP_AUDCAD = pd.read_csv('Archivos/15M_Turn_UP_AUDCAD.csv',coma).iloc[:,0:13]\n",
    "\n",
    "#Conservador\n",
    "Night_Eagle = pd.read_csv('Archivos/Night_Eagle.csv',coma).iloc[:,0:13]\n",
    "Wealthwelt = pd.read_csv('Archivos/Wealthwelt.csv',coma).iloc[:,0:13]\n",
    "TheWitcher = pd.read_csv('Archivos/TheWitcher.csv',coma).iloc[:,0:13]\n",
    "\n",
    "\n",
    "#Moderados\n",
    "ForexRealProfit = pd.read_csv('Archivos/ForexRealProfit.csv',coma).iloc[:,0:13]\n",
    "CandelabrumQuiet = pd.read_csv('Archivos/CandelabrumQuiet.csv',coma).iloc[:,0:13]\n",
    "TrendFollower = pd.read_csv('Archivos/TrendFollower.csv',coma).iloc[:,0:13]\n",
    "NightVisionEA = pd.read_csv('Archivos/NightVisionEA.csv',coma).iloc[:,0:13]\n",
    "Anomarion = pd.read_csv('Archivos/Anomarion.csv',coma).iloc[:,0:13]\n",
    "\n",
    "\n",
    "\n",
    "\n",
    "DORDOL_USDCAD = pd.read_csv('Archivos/DORDOL_USDCAD.csv',coma).iloc[:,0:13]\n",
    "KANAE_USDJPY = pd.read_csv('Archivos/KANAE_USDJPY.csv',coma).iloc[:,0:13]\n",
    "\n"
   ]
  },
  {
   "cell_type": "markdown",
   "metadata": {},
   "source": [
    "## Tabla en formato JSON con Profit, capital acumulado y cambio porcentual"
   ]
  },
  {
   "cell_type": "code",
   "execution_count": 11,
   "metadata": {},
   "outputs": [],
   "source": [
    "def Profit(Trader, balance):\n",
    "    \"Función que genera una tabla en formato JSON con el Profit, Capital Acumulado y\"\n",
    "    \"cambio porcentual de cada trader\"\n",
    "    \n",
    "        #Profit diario \n",
    "    profit = pd.DataFrame(Trader.groupby(['Close Date'])['Profit'].sum()).reset_index()\n",
    "\n",
    "        #Obtenemos el capital acumulado + capital inicial\n",
    "    capital =  balance \n",
    "    capital_acm = []\n",
    "\n",
    "    for i in range(0,len(Trader)):\n",
    "        capital = profit['Profit'][i] + capital\n",
    "        capital_acm.append(capital)\n",
    "    profit[\"Capital Acumulado\"] = capital_acm\n",
    "    \n",
    "        #Cambio porcentual del capital acumulado de cada trader\n",
    "    Porcentaje = []\n",
    "    for i in range(0,len(profit)):\n",
    "        porc = round(((profit['Capital Acumulado'][i] / capital) - 1) * 100, 2)\n",
    "        Porcentaje.append(porc)\n",
    "    profit[\"Cambio %\"] = Porcentaje\n",
    "    \n",
    "    return profit.to_json()\n"
   ]
  },
  {
   "cell_type": "markdown",
   "metadata": {},
   "source": [
    "## Guardar la tabla Profit en formato JSON"
   ]
  },
  {
   "cell_type": "code",
   "execution_count": 10,
   "metadata": {},
   "outputs": [],
   "source": [
    "a = Profit(DORDOL_USDCAD, 3646.91)\n",
    "\n",
    "dir = 'Archivos/Profits_JSON/'\n",
    "file_name = \"Profit.json\"\n",
    "\n",
    "with open(os.path.join(dir, file_name), 'w') as file:\n",
    "    json.dump(a, file)"
   ]
  },
  {
   "cell_type": "markdown",
   "metadata": {},
   "source": [
    "## Drawdown"
   ]
  },
  {
   "cell_type": "code",
   "execution_count": 58,
   "metadata": {},
   "outputs": [
    {
     "data": {
      "text/plain": [
       "'Arriesgado'"
      ]
     },
     "execution_count": 58,
     "metadata": {},
     "output_type": "execute_result"
    }
   ],
   "source": [
    "def Drawdown(Trader, balance):\n",
    "        #Profit diario \n",
    "    profit = pd.DataFrame(Trader.groupby(['Close Date'])['Profit'].sum()).reset_index()\n",
    "\n",
    "        #Obtenemos el capital acumulado + capital inicial\n",
    "    capital =  balance \n",
    "    capital_acm = []\n",
    "\n",
    "    for i in range(0,len(Trader)):\n",
    "        capital = profit['Profit'][i] + capital\n",
    "        capital_acm.append(capital)\n",
    "    profit[\"Capital Acumulado\"] = capital_acm\n",
    "    \n",
    "        #Cambio porcentual del capital acumulado de cada trader\n",
    "    Porcentaje = []\n",
    "    for i in range(0,len(profit)):\n",
    "        porc = round(((profit['Capital Acumulado'][i] / capital) - 1) * 100, 2)\n",
    "        Porcentaje.append(porc)\n",
    "    profit[\"Cambio %\"] = Porcentaje\n",
    "\n",
    "    #Obtenemos el cálculo del Drawdown como medida de riesgo para YellowBrick\n",
    "    Draw_d_0 = profit[['Close Date','Capital Acumulado']]\n",
    "    Draw_d_0.set_index('Close Date', inplace=True)\n",
    "\n",
    "    Draw_d_1 = Draw_d_0['Capital Acumulado'].cummax()\n",
    "    drawdown = (Draw_d_0['Capital Acumulado'] - Draw_d_1 )/Draw_d_1 \n",
    "    fecha_drawdown = drawdown.idxmin()\n",
    "    Po_draw_down = drawdown.min()\n",
    "    DrawDown = (Po_draw_down * 100) * (-1)\n",
    "\n",
    "    #Clasificamos al trader segun el tipo de Drawdown que obtuvo\n",
    "    trader = []\n",
    "    DrawDown = round(DrawDown)\n",
    "    if DrawDown in range (-0, 3):\n",
    "        trader = \"Conservador\"\n",
    "    elif  DrawDown in range (3,12):\n",
    "        trader = \"Moderado\"\n",
    "    else:\n",
    "        trader = \"Arriesgado\"\n",
    "    return trader\n",
    "        \n",
    "\n",
    "Drawdown(DORDOL_USDCAD, 3646.91)"
   ]
  },
  {
   "cell_type": "markdown",
   "metadata": {},
   "source": [
    "**Tabla con información de todos los traders**"
   ]
  },
  {
   "cell_type": "code",
   "execution_count": 79,
   "metadata": {},
   "outputs": [],
   "source": [
    "tabla = [YellowBrick, TurtleSafe, SFEPriceAction, REVERSESANZON, NightProfit, NightOwl, ForexRealProfit, Financially,\n",
    "         Dragon, Consistency, CandelabrumQuiet, BreakthroughSt, ATLAS, AlphaDayWalker]\n",
    "data = pd.concat(tabla, sort='False', ignore_index='True')"
   ]
  },
  {
   "cell_type": "markdown",
   "metadata": {},
   "source": [
    "## Estadística descriptiva de cada trader"
   ]
  },
  {
   "cell_type": "code",
   "execution_count": null,
   "metadata": {},
   "outputs": [],
   "source": [
    "display(YellowBrick.describe(), TurtleSafe.describe(), SFEPriceAction.describe(), REVERSESANZON.describe(), \n",
    "        NightProfit.describe(), NightOwl.describe(), ForexRealProfit.describe(), Financially.describe(),\n",
    "        Dragon.describe(), Consistency.describe(), CandelabrumQuiet.describe(), BreakthroughSt.describe(), \n",
    "        ATLAS.describe(), AlphaDayWalker.describe())"
   ]
  },
  {
   "cell_type": "markdown",
   "metadata": {},
   "source": [
    "## Gráfica efectividad por instrumento"
   ]
  },
  {
   "cell_type": "code",
   "execution_count": 72,
   "metadata": {},
   "outputs": [],
   "source": [
    "def GraficaEfectividad(Trader):\n",
    "    efect_x = Trader['Symbol'].unique()\n",
    "    efect_y = []\n",
    "    for x in efect_x:\n",
    "        df_x = Trader[Trader['Symbol'] == x]\n",
    "        positivos = len(df_x[df_x['Profit'] >= 0])\n",
    "        efect_y.append((positivos / len(df_x)) * 100)\n",
    "\n",
    "    pl.figure(figsize=(15, 8))\n",
    "    pl.bar(efect_x, efect_y)\n",
    "    "
   ]
  },
  {
   "cell_type": "markdown",
   "metadata": {},
   "source": [
    "### Guardar gráfica efectividad en formato JSON"
   ]
  },
  {
   "cell_type": "code",
   "execution_count": 78,
   "metadata": {},
   "outputs": [
    {
     "data": {
      "image/png": "[encoded data removed]",
      "text/plain": [
       "<Figure size 1080x576 with 1 Axes>"
      ]
     },
     "metadata": {
      "needs_background": "light"
     },
     "output_type": "display_data"
    }
   ],
   "source": [
    "grafica = GraficaEfectividad(YellowBrick)\n",
    "\n",
    "\n",
    "dir = 'Archivos/Graficas_Efectividad/'\n",
    "file_name = \"efectividad.json\"\n",
    "\n",
    "with open(os.path.join(dir, file_name), 'w') as file:\n",
    "    json.dump(grafica, file)"
   ]
  },
  {
   "cell_type": "code",
   "execution_count": null,
   "metadata": {},
   "outputs": [],
   "source": [
    "# La gráfica de arriba reemplaza este código, pero no se si podemos usar matplotlib\n",
    "\n",
    "figBar = go.Figure(\n",
    "        [go.Bar(name='Porcentaje de efectividad', x=efect_x, y=efect_y, hovertemplate=\"Efectividad del: %{y:.2f}%<br>\",\n",
    "                marker_color=['#343434', '#7FB7BE', '#D3F3EE', '#DACC3E', '#BC2C1A', '#D7816A', '#9F7E69', '#F5853F',\n",
    "                              '#BD4F6C', '#8F8389'],\n",
    "                showlegend=False)])\n"
   ]
  },
  {
   "cell_type": "code",
   "execution_count": null,
   "metadata": {},
   "outputs": [],
   "source": []
  },
  {
   "cell_type": "code",
   "execution_count": null,
   "metadata": {},
   "outputs": [],
   "source": [
    "Efectividad= pd.DataFrame(efect_x)\n",
    "Efectividad[\"Porcentaje\"] = efect_y\n",
    "Efectividad.rename(columns={0:'Symbol'},\n",
    "              inplace=True)\n",
    "Efectividad[\"Porcentaje\"] = round(Efectividad[\"Porcentaje\"],2)\n",
    "Efectividad"
   ]
  },
  {
   "cell_type": "code",
   "execution_count": null,
   "metadata": {},
   "outputs": [],
   "source": [
    "Efectividad = ff.create_table(Efectividad, height_constant=60)\n",
    "Efectividad"
   ]
  },
  {
   "cell_type": "code",
   "execution_count": null,
   "metadata": {},
   "outputs": [],
   "source": []
  },
  {
   "cell_type": "code",
   "execution_count": null,
   "metadata": {},
   "outputs": [],
   "source": []
  },
  {
   "cell_type": "code",
   "execution_count": null,
   "metadata": {},
   "outputs": [],
   "source": []
  },
  {
   "cell_type": "code",
   "execution_count": null,
   "metadata": {},
   "outputs": [],
   "source": []
  },
  {
   "cell_type": "code",
   "execution_count": null,
   "metadata": {},
   "outputs": [],
   "source": []
  },
  {
   "cell_type": "code",
   "execution_count": null,
   "metadata": {},
   "outputs": [],
   "source": []
  },
  {
   "cell_type": "code",
   "execution_count": null,
   "metadata": {},
   "outputs": [],
   "source": []
  },
  {
   "cell_type": "code",
   "execution_count": null,
   "metadata": {},
   "outputs": [],
   "source": []
  },
  {
   "cell_type": "code",
   "execution_count": null,
   "metadata": {},
   "outputs": [],
   "source": []
  },
  {
   "cell_type": "code",
   "execution_count": null,
   "metadata": {},
   "outputs": [],
   "source": []
  },
  {
   "cell_type": "code",
   "execution_count": null,
   "metadata": {},
   "outputs": [],
   "source": []
  },
  {
   "cell_type": "code",
   "execution_count": null,
   "metadata": {},
   "outputs": [],
   "source": []
  },
  {
   "cell_type": "code",
   "execution_count": null,
   "metadata": {},
   "outputs": [],
   "source": []
  },
  {
   "cell_type": "markdown",
   "metadata": {},
   "source": [
    "## Gráficas\n",
    "\n",
    "**Simulación de capital inversionista**"
   ]
  },
  {
   "cell_type": "code",
   "execution_count": null,
   "metadata": {},
   "outputs": [],
   "source": [
    "Inversionista = 100 #Capital que el inversionista quiere simular\n",
    "Inver_Porcentaje = Inversionista / capital\n",
    "Capital_Inver = []\n",
    "for i in range(0,len(Profit)):\n",
    "    capitalinver = round(Profit['Capital Acumulado'][i] * Inver_Porcentaje,2)\n",
    "    Capital_Inver.append(capitalinver)\n",
    "Profit[\"Capital Inversionista\"] = Capital_Inver\n",
    "fig = ff.create_table(Profit , height_constant=60)\n",
    "fig"
   ]
  },
  {
   "cell_type": "code",
   "execution_count": null,
   "metadata": {},
   "outputs": [],
   "source": [
    "fig_01 = go.Figure([go.Scatter(x=Profit['Close Date'], y=Profit['Capital Inversionista'])])\n",
    "fig_01.update_xaxes(rangeslider_visible=True)\n",
    "fig_01.show()"
   ]
  },
  {
   "cell_type": "code",
   "execution_count": null,
   "metadata": {},
   "outputs": [],
   "source": []
  },
  {
   "cell_type": "code",
   "execution_count": null,
   "metadata": {},
   "outputs": [],
   "source": []
  },
  {
   "cell_type": "code",
   "execution_count": null,
   "metadata": {},
   "outputs": [],
   "source": []
  },
  {
   "cell_type": "code",
   "execution_count": null,
   "metadata": {},
   "outputs": [],
   "source": []
  },
  {
   "cell_type": "code",
   "execution_count": null,
   "metadata": {},
   "outputs": [],
   "source": []
  },
  {
   "cell_type": "code",
   "execution_count": null,
   "metadata": {},
   "outputs": [],
   "source": []
  },
  {
   "cell_type": "code",
   "execution_count": null,
   "metadata": {},
   "outputs": [],
   "source": []
  }
 ],
 "metadata": {
  "kernelspec": {
   "display_name": "Python 3",
   "language": "python",
   "name": "python3"
  },
  "language_info": {
   "codemirror_mode": {
    "name": "ipython",
    "version": 3
   },
   "file_extension": ".py",
   "mimetype": "text/x-python",
   "name": "python",
   "nbconvert_exporter": "python",
   "pygments_lexer": "ipython3",
   "version": "3.8.5"
  }
 },
 "nbformat": 4,
 "nbformat_minor": 4
}
